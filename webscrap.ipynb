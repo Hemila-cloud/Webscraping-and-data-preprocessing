{
  "nbformat": 4,
  "nbformat_minor": 0,
  "metadata": {
    "colab": {
      "provenance": [],
      "authorship_tag": "ABX9TyP9JPd+7Y+vnAS7ulGsgyJY",
      "include_colab_link": true
    },
    "kernelspec": {
      "name": "python3",
      "display_name": "Python 3"
    },
    "language_info": {
      "name": "python"
    }
  },
  "cells": [
    {
      "cell_type": "markdown",
      "metadata": {
        "id": "view-in-github",
        "colab_type": "text"
      },
      "source": [
        "<a href=\"https://colab.research.google.com/github/Hemila-cloud/Webscraping-and-data-preprocessing/blob/main/webscrap.ipynb\" target=\"_parent\"><img src=\"https://colab.research.google.com/assets/colab-badge.svg\" alt=\"Open In Colab\"/></a>"
      ]
    },
    {
      "cell_type": "code",
      "execution_count": 1,
      "metadata": {
        "colab": {
          "base_uri": "https://localhost:8080/",
          "height": 491
        },
        "id": "x_NXtiJ7B9FY",
        "outputId": "0a797b39-4cdf-4a76-c411-a2b4326af004"
      },
      "outputs": [
        {
          "output_type": "stream",
          "name": "stdout",
          "text": [
            "Requirement already satisfied: requests in /usr/local/lib/python3.11/dist-packages (2.32.3)\n",
            "Requirement already satisfied: beautifulsoup4 in /usr/local/lib/python3.11/dist-packages (4.13.4)\n",
            "Requirement already satisfied: pandas in /usr/local/lib/python3.11/dist-packages (2.2.2)\n",
            "Requirement already satisfied: charset-normalizer<4,>=2 in /usr/local/lib/python3.11/dist-packages (from requests) (3.4.2)\n",
            "Requirement already satisfied: idna<4,>=2.5 in /usr/local/lib/python3.11/dist-packages (from requests) (3.10)\n",
            "Requirement already satisfied: urllib3<3,>=1.21.1 in /usr/local/lib/python3.11/dist-packages (from requests) (2.4.0)\n",
            "Requirement already satisfied: certifi>=2017.4.17 in /usr/local/lib/python3.11/dist-packages (from requests) (2025.7.14)\n",
            "Requirement already satisfied: soupsieve>1.2 in /usr/local/lib/python3.11/dist-packages (from beautifulsoup4) (2.7)\n",
            "Requirement already satisfied: typing-extensions>=4.0.0 in /usr/local/lib/python3.11/dist-packages (from beautifulsoup4) (4.14.1)\n",
            "Requirement already satisfied: numpy>=1.23.2 in /usr/local/lib/python3.11/dist-packages (from pandas) (2.0.2)\n",
            "Requirement already satisfied: python-dateutil>=2.8.2 in /usr/local/lib/python3.11/dist-packages (from pandas) (2.9.0.post0)\n",
            "Requirement already satisfied: pytz>=2020.1 in /usr/local/lib/python3.11/dist-packages (from pandas) (2025.2)\n",
            "Requirement already satisfied: tzdata>=2022.7 in /usr/local/lib/python3.11/dist-packages (from pandas) (2025.2)\n",
            "Requirement already satisfied: six>=1.5 in /usr/local/lib/python3.11/dist-packages (from python-dateutil>=2.8.2->pandas) (1.17.0)\n",
            "Headers: ['Name', 'Field', 'Known for', 'Most noted award/fellowship', 'Year of death', 'Picture']\n",
            "Row Data: ['A.P.J Abdul Kalam', 'Aerospace engineering', 'President of India', 'Bharat Ratna', '2015', '']\n",
            "Row Data: ['Chandrasekhara Venkata Raman (C.V Raman)[1]', 'Physics', 'Light scattering', 'Nobel Prize in Physics', '1970', '']\n",
            "Row Data: ['Srinivasa Ramanujan', 'Mathematics', 'Contributions to mathematical analysis, number theory, infinite series, and continued fractions', 'Fellow of the Royal Society', '1920', '']\n",
            "Row Data: ['Satyendra Nath Bose', 'Mathematics, physics', 'Bose–Einstein condensate and Bose–Einstein statistics', '', '1974', '']\n",
            "Row Data: ['M. S. Swaminathan', 'Genetics', 'High-yielding varieties of wheat and rice in India', '', '2023', '']\n",
            "Row Data: ['Raj Reddy', 'Computer science', 'Early pioneers of artificial intelligence', 'Turing Award', '', '']\n",
            "Row Data: ['Har Gobind Khorana', 'Biochemistry', 'First to show the role of nucleotides in protein synthesis', 'Nobel Prize in Physiology or Medicine (shared)', '2011', '']\n",
            "Row Data: ['K. S. Chandrasekharan', 'Mathematics', '', '', '2017', '']\n",
            "Row Data: ['Hari Om Srivastava', 'Broadcasting', 'Socio-economic development by use of broadcasting in India', 'Knights Hospitaller', '', '', '']\n",
            "Data saved as 'scraped_data.csv'\n"
          ]
        },
        {
          "output_type": "display_data",
          "data": {
            "text/plain": [
              "<IPython.core.display.Javascript object>"
            ],
            "application/javascript": [
              "\n",
              "    async function download(id, filename, size) {\n",
              "      if (!google.colab.kernel.accessAllowed) {\n",
              "        return;\n",
              "      }\n",
              "      const div = document.createElement('div');\n",
              "      const label = document.createElement('label');\n",
              "      label.textContent = `Downloading \"${filename}\": `;\n",
              "      div.appendChild(label);\n",
              "      const progress = document.createElement('progress');\n",
              "      progress.max = size;\n",
              "      div.appendChild(progress);\n",
              "      document.body.appendChild(div);\n",
              "\n",
              "      const buffers = [];\n",
              "      let downloaded = 0;\n",
              "\n",
              "      const channel = await google.colab.kernel.comms.open(id);\n",
              "      // Send a message to notify the kernel that we're ready.\n",
              "      channel.send({})\n",
              "\n",
              "      for await (const message of channel.messages) {\n",
              "        // Send a message to notify the kernel that we're ready.\n",
              "        channel.send({})\n",
              "        if (message.buffers) {\n",
              "          for (const buffer of message.buffers) {\n",
              "            buffers.push(buffer);\n",
              "            downloaded += buffer.byteLength;\n",
              "            progress.value = downloaded;\n",
              "          }\n",
              "        }\n",
              "      }\n",
              "      const blob = new Blob(buffers, {type: 'application/binary'});\n",
              "      const a = document.createElement('a');\n",
              "      a.href = window.URL.createObjectURL(blob);\n",
              "      a.download = filename;\n",
              "      div.appendChild(a);\n",
              "      a.click();\n",
              "      div.remove();\n",
              "    }\n",
              "  "
            ]
          },
          "metadata": {}
        },
        {
          "output_type": "display_data",
          "data": {
            "text/plain": [
              "<IPython.core.display.Javascript object>"
            ],
            "application/javascript": [
              "download(\"download_39657848-02b9-4b83-bbbf-1553ab8b0344\", \"scraped_data.csv\", 874)"
            ]
          },
          "metadata": {}
        }
      ],
      "source": [
        "# Install necessary libraries\n",
        "!pip install requests beautifulsoup4 pandas\n",
        "\n",
        "# Import libraries\n",
        "import requests\n",
        "from bs4 import BeautifulSoup\n",
        "import pandas as pd\n",
        "\n",
        "# Define the URL of the website to scrape\n",
        "url = 'https://simple.wikipedia.org/wiki/List_of_Indian_scientists'\n",
        "\n",
        "# Send an HTTP GET request to the website\n",
        "response = requests.get(url)\n",
        "\n",
        "# Check if the request was successful\n",
        "if response.status_code == 200:\n",
        "    # Parse the HTML content of the page\n",
        "    soup = BeautifulSoup(response.content, 'html.parser')\n",
        "\n",
        "    # Find the table\n",
        "    table = soup.find('table')  # Adjust based on your target website\n",
        "    rows = table.find_all('tr')\n",
        "\n",
        "    # Extract headers\n",
        "    headers = [header.text.strip() for header in rows[0].find_all('th')]\n",
        "    print(\"Headers:\", headers)\n",
        "\n",
        "    # Extract data rows\n",
        "    data = []\n",
        "    for row in rows[1:]:\n",
        "        cols = [col.text.strip() for col in row.find_all('td')]\n",
        "        print(\"Row Data:\", cols)  # Debugging step\n",
        "        data.append(cols)\n",
        "\n",
        "    # Option 1: Skip mismatched rows\n",
        "    cleaned_data = [row for row in data if len(row) == len(headers)]\n",
        "\n",
        "    # Create a DataFrame\n",
        "    df = pd.DataFrame(cleaned_data, columns=headers)\n",
        "\n",
        "    # Save as a CSV file\n",
        "    df.to_csv('scraped_data.csv', index=False)\n",
        "    print(\"Data saved as 'scraped_data.csv'\")\n",
        "else:\n",
        "    print(f\"Failed to retrieve the page. Status code: {response.status_code}\")\n",
        "\n",
        "\n",
        "\n",
        "from google.colab import files\n",
        "files.download('scraped_data.csv')"
      ]
    }
  ]
}